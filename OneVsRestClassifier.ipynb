{
 "cells": [
  {
   "cell_type": "code",
   "execution_count": 54,
   "metadata": {
    "collapsed": true
   },
   "outputs": [],
   "source": [
    "import numpy as np\n",
    "from sklearn.pipeline import Pipeline\n",
    "from sklearn.feature_extraction.text import CountVectorizer\n",
    "from sklearn.svm import LinearSVC\n",
    "from sklearn.feature_extraction.text import TfidfTransformer\n",
    "from sklearn.multiclass import OneVsRestClassifier\n",
    "import pandas as pd\n",
    "from sklearn.metrics import f1_score, precision_score, recall_score, accuracy_score\n",
    "\n",
    "    "
   ]
  },
  {
   "cell_type": "code",
   "execution_count": 2,
   "metadata": {
    "collapsed": true
   },
   "outputs": [],
   "source": [
    "train =  pd.read_csv(\"train.csv\", index_col=None)"
   ]
  },
  {
   "cell_type": "code",
   "execution_count": 3,
   "metadata": {},
   "outputs": [
    {
     "data": {
      "text/html": [
       "<div>\n",
       "<style scoped>\n",
       "    .dataframe tbody tr th:only-of-type {\n",
       "        vertical-align: middle;\n",
       "    }\n",
       "\n",
       "    .dataframe tbody tr th {\n",
       "        vertical-align: top;\n",
       "    }\n",
       "\n",
       "    .dataframe thead th {\n",
       "        text-align: right;\n",
       "    }\n",
       "</style>\n",
       "<table border=\"1\" class=\"dataframe\">\n",
       "  <thead>\n",
       "    <tr style=\"text-align: right;\">\n",
       "      <th></th>\n",
       "      <th>business_id</th>\n",
       "      <th>categories</th>\n",
       "      <th>city</th>\n",
       "      <th>full_address</th>\n",
       "      <th>latitude</th>\n",
       "      <th>longitude</th>\n",
       "      <th>name</th>\n",
       "      <th>neighborhoods</th>\n",
       "      <th>open</th>\n",
       "      <th>review_count</th>\n",
       "      <th>stars_x</th>\n",
       "      <th>state</th>\n",
       "      <th>type_x</th>\n",
       "      <th>date</th>\n",
       "      <th>review_id</th>\n",
       "      <th>stars_y</th>\n",
       "      <th>text</th>\n",
       "      <th>type_y</th>\n",
       "      <th>user_id</th>\n",
       "      <th>votes</th>\n",
       "    </tr>\n",
       "  </thead>\n",
       "  <tbody>\n",
       "    <tr>\n",
       "      <th>0</th>\n",
       "      <td>rncjoVoEFUJGCUoC1JgnUA</td>\n",
       "      <td>['Accountants', 'Professional Services', 'Tax ...</td>\n",
       "      <td>Peoria</td>\n",
       "      <td>8466 W Peoria Ave\\nSte 6\\nPeoria, AZ 85345</td>\n",
       "      <td>33.581867</td>\n",
       "      <td>-112.241596</td>\n",
       "      <td>Peoria Income Tax Service</td>\n",
       "      <td>[]</td>\n",
       "      <td>True</td>\n",
       "      <td>3</td>\n",
       "      <td>5.0</td>\n",
       "      <td>AZ</td>\n",
       "      <td>business</td>\n",
       "      <td>2012-02-12</td>\n",
       "      <td>EnAdKZ_u_wj9ifTRwkfVwg</td>\n",
       "      <td>5</td>\n",
       "      <td>I highly reccomend this place. They helped my ...</td>\n",
       "      <td>review</td>\n",
       "      <td>HK35ai8frY75iMYBVdD_Pg</td>\n",
       "      <td>{'funny': 0, 'useful': 1, 'cool': 0}</td>\n",
       "    </tr>\n",
       "    <tr>\n",
       "      <th>1</th>\n",
       "      <td>rncjoVoEFUJGCUoC1JgnUA</td>\n",
       "      <td>['Accountants', 'Professional Services', 'Tax ...</td>\n",
       "      <td>Peoria</td>\n",
       "      <td>8466 W Peoria Ave\\nSte 6\\nPeoria, AZ 85345</td>\n",
       "      <td>33.581867</td>\n",
       "      <td>-112.241596</td>\n",
       "      <td>Peoria Income Tax Service</td>\n",
       "      <td>[]</td>\n",
       "      <td>True</td>\n",
       "      <td>3</td>\n",
       "      <td>5.0</td>\n",
       "      <td>AZ</td>\n",
       "      <td>business</td>\n",
       "      <td>2012-01-03</td>\n",
       "      <td>QkIrHs6Qb9aEPDXi-ulIsw</td>\n",
       "      <td>5</td>\n",
       "      <td>I received great tax preparation service at a ...</td>\n",
       "      <td>review</td>\n",
       "      <td>EtQsLrSaXqWZN8i8Y_zB-A</td>\n",
       "      <td>{'funny': 0, 'useful': 1, 'cool': 0}</td>\n",
       "    </tr>\n",
       "    <tr>\n",
       "      <th>2</th>\n",
       "      <td>rncjoVoEFUJGCUoC1JgnUA</td>\n",
       "      <td>['Accountants', 'Professional Services', 'Tax ...</td>\n",
       "      <td>Peoria</td>\n",
       "      <td>8466 W Peoria Ave\\nSte 6\\nPeoria, AZ 85345</td>\n",
       "      <td>33.581867</td>\n",
       "      <td>-112.241596</td>\n",
       "      <td>Peoria Income Tax Service</td>\n",
       "      <td>[]</td>\n",
       "      <td>True</td>\n",
       "      <td>3</td>\n",
       "      <td>5.0</td>\n",
       "      <td>AZ</td>\n",
       "      <td>business</td>\n",
       "      <td>2012-02-12</td>\n",
       "      <td>fDg_tMd2rGU2dwxzL6V7kQ</td>\n",
       "      <td>5</td>\n",
       "      <td>I'll never use another cheapy online tax progr...</td>\n",
       "      <td>review</td>\n",
       "      <td>PahwPVfd6BkDyO8KCFEoWw</td>\n",
       "      <td>{'funny': 0, 'useful': 1, 'cool': 0}</td>\n",
       "    </tr>\n",
       "    <tr>\n",
       "      <th>3</th>\n",
       "      <td>0FNFSzCFP_rGUoJx8W7tJg</td>\n",
       "      <td>['Sporting Goods', 'Bikes', 'Shopping']</td>\n",
       "      <td>Phoenix</td>\n",
       "      <td>2149 W Wood Dr\\nPhoenix, AZ 85029</td>\n",
       "      <td>33.604054</td>\n",
       "      <td>-112.105933</td>\n",
       "      <td>Bike Doctor</td>\n",
       "      <td>[]</td>\n",
       "      <td>True</td>\n",
       "      <td>5</td>\n",
       "      <td>5.0</td>\n",
       "      <td>AZ</td>\n",
       "      <td>business</td>\n",
       "      <td>2011-06-08</td>\n",
       "      <td>yEQacRqY2MJRHTkrUJYLOw</td>\n",
       "      <td>5</td>\n",
       "      <td>Love love the quick repairs and great service....</td>\n",
       "      <td>review</td>\n",
       "      <td>_MucjBvznq2y3yDEt9rOHA</td>\n",
       "      <td>{'funny': 0, 'useful': 0, 'cool': 0}</td>\n",
       "    </tr>\n",
       "    <tr>\n",
       "      <th>4</th>\n",
       "      <td>0FNFSzCFP_rGUoJx8W7tJg</td>\n",
       "      <td>['Sporting Goods', 'Bikes', 'Shopping']</td>\n",
       "      <td>Phoenix</td>\n",
       "      <td>2149 W Wood Dr\\nPhoenix, AZ 85029</td>\n",
       "      <td>33.604054</td>\n",
       "      <td>-112.105933</td>\n",
       "      <td>Bike Doctor</td>\n",
       "      <td>[]</td>\n",
       "      <td>True</td>\n",
       "      <td>5</td>\n",
       "      <td>5.0</td>\n",
       "      <td>AZ</td>\n",
       "      <td>business</td>\n",
       "      <td>2012-09-21</td>\n",
       "      <td>muIhE1HQZscwe06ISMu81A</td>\n",
       "      <td>5</td>\n",
       "      <td>I couldn't have asked for a better experience!...</td>\n",
       "      <td>review</td>\n",
       "      <td>szbTVEtATfn8f9GxbGGO5w</td>\n",
       "      <td>{'funny': 0, 'useful': 0, 'cool': 0}</td>\n",
       "    </tr>\n",
       "  </tbody>\n",
       "</table>\n",
       "</div>"
      ],
      "text/plain": [
       "              business_id                                         categories  \\\n",
       "0  rncjoVoEFUJGCUoC1JgnUA  ['Accountants', 'Professional Services', 'Tax ...   \n",
       "1  rncjoVoEFUJGCUoC1JgnUA  ['Accountants', 'Professional Services', 'Tax ...   \n",
       "2  rncjoVoEFUJGCUoC1JgnUA  ['Accountants', 'Professional Services', 'Tax ...   \n",
       "3  0FNFSzCFP_rGUoJx8W7tJg            ['Sporting Goods', 'Bikes', 'Shopping']   \n",
       "4  0FNFSzCFP_rGUoJx8W7tJg            ['Sporting Goods', 'Bikes', 'Shopping']   \n",
       "\n",
       "      city                                full_address   latitude   longitude  \\\n",
       "0   Peoria  8466 W Peoria Ave\\nSte 6\\nPeoria, AZ 85345  33.581867 -112.241596   \n",
       "1   Peoria  8466 W Peoria Ave\\nSte 6\\nPeoria, AZ 85345  33.581867 -112.241596   \n",
       "2   Peoria  8466 W Peoria Ave\\nSte 6\\nPeoria, AZ 85345  33.581867 -112.241596   \n",
       "3  Phoenix           2149 W Wood Dr\\nPhoenix, AZ 85029  33.604054 -112.105933   \n",
       "4  Phoenix           2149 W Wood Dr\\nPhoenix, AZ 85029  33.604054 -112.105933   \n",
       "\n",
       "                        name neighborhoods  open  review_count  stars_x state  \\\n",
       "0  Peoria Income Tax Service            []  True             3      5.0    AZ   \n",
       "1  Peoria Income Tax Service            []  True             3      5.0    AZ   \n",
       "2  Peoria Income Tax Service            []  True             3      5.0    AZ   \n",
       "3                Bike Doctor            []  True             5      5.0    AZ   \n",
       "4                Bike Doctor            []  True             5      5.0    AZ   \n",
       "\n",
       "     type_x        date               review_id  stars_y  \\\n",
       "0  business  2012-02-12  EnAdKZ_u_wj9ifTRwkfVwg        5   \n",
       "1  business  2012-01-03  QkIrHs6Qb9aEPDXi-ulIsw        5   \n",
       "2  business  2012-02-12  fDg_tMd2rGU2dwxzL6V7kQ        5   \n",
       "3  business  2011-06-08  yEQacRqY2MJRHTkrUJYLOw        5   \n",
       "4  business  2012-09-21  muIhE1HQZscwe06ISMu81A        5   \n",
       "\n",
       "                                                text  type_y  \\\n",
       "0  I highly reccomend this place. They helped my ...  review   \n",
       "1  I received great tax preparation service at a ...  review   \n",
       "2  I'll never use another cheapy online tax progr...  review   \n",
       "3  Love love the quick repairs and great service....  review   \n",
       "4  I couldn't have asked for a better experience!...  review   \n",
       "\n",
       "                  user_id                                 votes  \n",
       "0  HK35ai8frY75iMYBVdD_Pg  {'funny': 0, 'useful': 1, 'cool': 0}  \n",
       "1  EtQsLrSaXqWZN8i8Y_zB-A  {'funny': 0, 'useful': 1, 'cool': 0}  \n",
       "2  PahwPVfd6BkDyO8KCFEoWw  {'funny': 0, 'useful': 1, 'cool': 0}  \n",
       "3  _MucjBvznq2y3yDEt9rOHA  {'funny': 0, 'useful': 0, 'cool': 0}  \n",
       "4  szbTVEtATfn8f9GxbGGO5w  {'funny': 0, 'useful': 0, 'cool': 0}  "
      ]
     },
     "execution_count": 3,
     "metadata": {},
     "output_type": "execute_result"
    }
   ],
   "source": [
    "train.head()"
   ]
  },
  {
   "cell_type": "code",
   "execution_count": 6,
   "metadata": {},
   "outputs": [
    {
     "data": {
      "text/plain": [
       "229907"
      ]
     },
     "execution_count": 6,
     "metadata": {},
     "output_type": "execute_result"
    }
   ],
   "source": [
    "len(train)"
   ]
  },
  {
   "cell_type": "code",
   "execution_count": 35,
   "metadata": {},
   "outputs": [
    {
     "data": {
      "text/plain": [
       "22991"
      ]
     },
     "execution_count": 35,
     "metadata": {},
     "output_type": "execute_result"
    }
   ],
   "source": [
    "train = train[['text','categories']]\n",
    "\n",
    "#subset data to test model\n",
    "train = train.sample(frac=0.1)\n",
    "len(train)"
   ]
  },
  {
   "cell_type": "code",
   "execution_count": null,
   "metadata": {
    "collapsed": true
   },
   "outputs": [],
   "source": []
  },
  {
   "cell_type": "code",
   "execution_count": 12,
   "metadata": {
    "collapsed": true
   },
   "outputs": [],
   "source": [
    "X_train = np.array(train['text'].values.astype('U'))\n",
    "y_train =  np.array(train['categories'])"
   ]
  },
  {
   "cell_type": "code",
   "execution_count": 13,
   "metadata": {
    "collapsed": true
   },
   "outputs": [],
   "source": [
    "classifier = Pipeline([\n",
    "    #Convert a collection of text documents to a matrix of token counts\n",
    "    ('vectorizer', CountVectorizer(ngram_range=(1,1))),\n",
    "    #TFIDF\n",
    "    ('tfidf', TfidfTransformer()),\n",
    "    ('clf', OneVsRestClassifier(LinearSVC()))])\n"
   ]
  },
  {
   "cell_type": "code",
   "execution_count": 14,
   "metadata": {},
   "outputs": [
    {
     "data": {
      "text/plain": [
       "Pipeline(memory=None,\n",
       "     steps=[('vectorizer', CountVectorizer(analyzer='word', binary=False, decode_error='strict',\n",
       "        dtype=<class 'numpy.int64'>, encoding='utf-8', input='content',\n",
       "        lowercase=True, max_df=1.0, max_features=None, min_df=1,\n",
       "        ngram_range=(1, 1), preprocessor=None, stop_words=None,\n",
       "       ...lti_class='ovr', penalty='l2', random_state=None, tol=0.0001,\n",
       "     verbose=0),\n",
       "          n_jobs=1))])"
      ]
     },
     "execution_count": 14,
     "metadata": {},
     "output_type": "execute_result"
    }
   ],
   "source": [
    "classifier.fit(X_train,y_train )\n",
    "\n"
   ]
  },
  {
   "cell_type": "code",
   "execution_count": 15,
   "metadata": {
    "collapsed": true
   },
   "outputs": [],
   "source": [
    "#Save model\n",
    "import pickle\n",
    "pickle.dump(classifier, open('OneVsRestClassifier_10%subset', 'wb'))"
   ]
  },
  {
   "cell_type": "code",
   "execution_count": null,
   "metadata": {
    "collapsed": true
   },
   "outputs": [],
   "source": [
    "# load the model from disk\n",
    "loaded_model = pickle.load(open(filename, 'rb'))\n"
   ]
  },
  {
   "cell_type": "code",
   "execution_count": 44,
   "metadata": {},
   "outputs": [
    {
     "name": "stdout",
     "output_type": "stream",
     "text": [
      "10702\n",
      "1070\n"
     ]
    }
   ],
   "source": [
    "test =  pd.read_csv(\"test.csv\", index_col=None)\n",
    "print(len(test))\n",
    "test = test[['text','categories']]\n",
    "#subset data to test model\n",
    "test = test.sample(frac=0.1)\n",
    "print(len(test))\n",
    "\n",
    "X_test = np.array(test['text'].values.astype('U'))\n",
    "y_test =  np.array(test['categories'])\n"
   ]
  },
  {
   "cell_type": "code",
   "execution_count": 46,
   "metadata": {},
   "outputs": [],
   "source": [
    "predicted = classifier.predict(X_test)\n",
    "\n"
   ]
  },
  {
   "cell_type": "code",
   "execution_count": 50,
   "metadata": {},
   "outputs": [
    {
     "data": {
      "text/plain": [
       "array([\"['Pizza', 'Restaurants']\", \"['Burgers', 'Restaurants']\",\n",
       "       \"['Barbers', 'Beauty & Spas']\", ..., \"['Local Flavor']\",\n",
       "       \"['Mexican', 'Restaurants']\", \"['Mexican', 'Restaurants']\"],\n",
       "      dtype='<U181')"
      ]
     },
     "execution_count": 50,
     "metadata": {},
     "output_type": "execute_result"
    }
   ],
   "source": [
    "predicted"
   ]
  },
  {
   "cell_type": "code",
   "execution_count": 52,
   "metadata": {},
   "outputs": [
    {
     "data": {
      "text/plain": [
       "array([\"['Pizza', 'Restaurants']\",\n",
       "       \"['Burgers', 'Fast Food', 'American (Traditional)', 'Restaurants']\",\n",
       "       \"['Barbers', 'Beauty & Spas']\", ..., \"['Restaurants', 'Italian']\",\n",
       "       \"['Mexican', 'Restaurants']\", \"['Mexican', 'Restaurants']\"], dtype=object)"
      ]
     },
     "execution_count": 52,
     "metadata": {},
     "output_type": "execute_result"
    }
   ],
   "source": [
    "y_test"
   ]
  },
  {
   "cell_type": "code",
   "execution_count": 51,
   "metadata": {},
   "outputs": [
    {
     "data": {
      "text/plain": [
       "array([ \"I found this place by using Yelp and being a Vegan that hates Daiya cheese this was the place to be. They use follow you heart even though it is more expensive for them to get it. \\n\\nMe and my non Vegan boyfriend absolutely loved this dining experience. He could not tell that the cheese was a soy cheese, the pizza crust was awesome and the live acoustic music was wonderful.\\n\\nThe manager/ owner came by our table and many other tables to check and see how we liked the food and asked even if we had suggestions but we didn't ... everything was perfect. I will be back very soon.\",\n",
       "       'Always great!  Great service and yummy vegetarian options. One of the best veggie burgers around. \\nJosh is an awesome server!',\n",
       "       'OK, sorry for the delay in updating since visiting Good Fellas several months back.\\n\\nFirst off, if you do not reach someone live on the phone when you call, keep calling!\\n\\nDo not expect to receive a call back if you leave a message, \\n\\nOnce you manage to make an appointment, the service is great.\\n\\nI went in for a traditional face shave and was very pleased with the quality of work performed. Unfortunately I can not comment of their haircuts since I had one prior to leaving for Phoenix.\\n\\nBut if you want to treat yourself to a nice relaxing shave, I highly recommend Good Fellas.',\n",
       "       ...,\n",
       "       'Probably the lamest happy hour spot I\\'ve ever been to. We asked the bartender about that day\\'s HA items (we were there on a Friday) and he listed 3 items - 2 specific foo-foo drinks(probably colored blue) and one appetizer. wow. \\n\\nNothing here like a happy hour menu or discounted well drinks. \\n\\nSo we got a vodka and soda - $13.  oooookay, I guess they\\'re preying on the people who don\\'t have enough sense to go to a theatre (Ipic) that\\'s less than $20/head. \\n\\nI was there for a meetup, which brought people there to have fun, etc. You\\'d think Tanzy would appreciate that, but they had their waitresses add 20% to everyone\\'s bill - nice. It\\'s not like we were sitting down creating a \\'table from hell with 30 people\".\\n\\nLuckily I was impatient enough to get our drinks at the bar, so this didn\\'t affect me.\\n\\nEveryone from the people at the door , the bartenders, and the waitresses were super nice, though. \\n\\nThe bathroom was pretty cool..\\n\\nOh and last but not least, I have to admit I absolutely hate the name , Tanzy. I just feel creepy as a hetero male saying \"hey, I\\'m going to Tanzy\". \\n\\nPlease note my utter hatred of the name didn\\'t affect this review.',\n",
       "       'I went there for lunch today.  The park lot is small that is near the building, you can park on the side of it for more room.  The place is set up to order at the counter.  \\n\\nI had the quesdilla paquime with chicken $5.25.  The chicken was breaded, pounded thin,  and yummy.\\n\\nI eye balled the deserts (ice cream, pudding, flan, cakes, popsicles, etc.)and different drinks (bottled sodas, canned sodas, shakes, & fruit drinks).  OMG!  Too bad, I was already full.',\n",
       "       'My husband and I enjoyed our meal (El Grande) We recommend the tres leches cake. Yum! The flavor of the food all had a simmilarity and I think it was cominos or cumin powder. Even the beans were seasoned with it....hmmm. Otherwise, a flavorful experience!'],\n",
       "      dtype='<U4993')"
      ]
     },
     "execution_count": 51,
     "metadata": {},
     "output_type": "execute_result"
    }
   ],
   "source": [
    "X_test"
   ]
  },
  {
   "cell_type": "code",
   "execution_count": null,
   "metadata": {
    "collapsed": true
   },
   "outputs": [],
   "source": []
  },
  {
   "cell_type": "code",
   "execution_count": 64,
   "metadata": {},
   "outputs": [],
   "source": [
    "#Micro has implications -- better to predict and hit occasionally than to never predict at all\n",
    "f1 = f1_score(y_test,predicted, average ='micro')\n",
    "recall =  recall_score(y_test, predicted, average= 'micro')\n",
    "precission =precision_score(y_test, predicted, average='micro')"
   ]
  },
  {
   "cell_type": "code",
   "execution_count": 63,
   "metadata": {},
   "outputs": [
    {
     "name": "stdout",
     "output_type": "stream",
     "text": [
      "f1: 0.3177570093457944\n",
      "precission: 0.3177570093457944\n",
      "recall: 0.3177570093457944\n"
     ]
    }
   ],
   "source": [
    "print(\"f1: {}\".format(f1))\n",
    "print(\"precission: {}\".format(precission))\n",
    "print(\"recall: {}\".format(recall))"
   ]
  },
  {
   "cell_type": "code",
   "execution_count": 66,
   "metadata": {},
   "outputs": [
    {
     "data": {
      "text/plain": [
       "0.0"
      ]
     },
     "execution_count": 66,
     "metadata": {},
     "output_type": "execute_result"
    }
   ],
   "source": [
    "recall-f1"
   ]
  },
  {
   "cell_type": "code",
   "execution_count": null,
   "metadata": {
    "collapsed": true
   },
   "outputs": [],
   "source": []
  }
 ],
 "metadata": {
  "kernelspec": {
   "display_name": "Python 3",
   "language": "python",
   "name": "python3"
  },
  "language_info": {
   "codemirror_mode": {
    "name": "ipython",
    "version": 3
   },
   "file_extension": ".py",
   "mimetype": "text/x-python",
   "name": "python",
   "nbconvert_exporter": "python",
   "pygments_lexer": "ipython3",
   "version": "3.6.2"
  }
 },
 "nbformat": 4,
 "nbformat_minor": 2
}
