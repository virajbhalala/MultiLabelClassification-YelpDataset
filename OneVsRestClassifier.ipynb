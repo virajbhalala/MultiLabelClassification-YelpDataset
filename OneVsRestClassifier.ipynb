{
 "cells": [
  {
   "cell_type": "code",
   "execution_count": 1,
   "metadata": {
    "collapsed": true
   },
   "outputs": [],
   "source": [
    "import numpy as np\n",
    "from sklearn.pipeline import Pipeline\n",
    "from sklearn.feature_extraction.text import CountVectorizer\n",
    "from sklearn.svm import LinearSVC\n",
    "from sklearn.feature_extraction.text import TfidfTransformer\n",
    "from sklearn.multiclass import OneVsRestClassifier\n",
    "import pandas as pd\n",
    "from sklearn.metrics import f1_score, precision_score, recall_score, accuracy_score\n",
    "\n",
    "    "
   ]
  },
  {
   "cell_type": "code",
   "execution_count": 35,
   "metadata": {
    "collapsed": true
   },
   "outputs": [],
   "source": [
    "train =  pd.read_csv(\"train.csv\", index_col=None)\n",
    "#train =  pd.read_csv(\"train_wo_ZeroLabels.csv\", index_col=None)"
   ]
  },
  {
   "cell_type": "code",
   "execution_count": 36,
   "metadata": {},
   "outputs": [
    {
     "data": {
      "text/plain": [
       "229907"
      ]
     },
     "execution_count": 36,
     "metadata": {},
     "output_type": "execute_result"
    }
   ],
   "source": [
    "len(train)"
   ]
  },
  {
   "cell_type": "code",
   "execution_count": 37,
   "metadata": {},
   "outputs": [],
   "source": [
    "train = train[['text','categories']]\n"
   ]
  },
  {
   "cell_type": "code",
   "execution_count": 38,
   "metadata": {},
   "outputs": [
    {
     "data": {
      "text/plain": [
       "22991"
      ]
     },
     "execution_count": 38,
     "metadata": {},
     "output_type": "execute_result"
    }
   ],
   "source": [
    "\n",
    "#subset data to test model\n",
    "train = train.sample(frac=0.1)\n",
    "len(train)"
   ]
  },
  {
   "cell_type": "code",
   "execution_count": 39,
   "metadata": {
    "collapsed": true
   },
   "outputs": [],
   "source": [
    "X_train = np.array(train['text'].values.astype('U'))\n",
    "y_train =  np.array(train['categories'])"
   ]
  },
  {
   "cell_type": "code",
   "execution_count": 40,
   "metadata": {
    "collapsed": true
   },
   "outputs": [],
   "source": [
    "classifier = Pipeline([\n",
    "    #Convert a collection of text documents to a matrix of token counts\n",
    "    ('vectorizer', CountVectorizer(ngram_range=(1,1))),\n",
    "    #TFIDF\n",
    "    ('tfidf', TfidfTransformer()),\n",
    "    ('clf', OneVsRestClassifier(LinearSVC()))])\n"
   ]
  },
  {
   "cell_type": "code",
   "execution_count": 41,
   "metadata": {},
   "outputs": [
    {
     "data": {
      "text/plain": [
       "Pipeline(memory=None,\n",
       "     steps=[('vectorizer', CountVectorizer(analyzer='word', binary=False, decode_error='strict',\n",
       "        dtype=<class 'numpy.int64'>, encoding='utf-8', input='content',\n",
       "        lowercase=True, max_df=1.0, max_features=None, min_df=1,\n",
       "        ngram_range=(1, 1), preprocessor=None, stop_words=None,\n",
       "       ...lti_class='ovr', penalty='l2', random_state=None, tol=0.0001,\n",
       "     verbose=0),\n",
       "          n_jobs=1))])"
      ]
     },
     "execution_count": 41,
     "metadata": {},
     "output_type": "execute_result"
    }
   ],
   "source": [
    "classifier.fit(X_train,y_train )\n",
    "\n"
   ]
  },
  {
   "cell_type": "code",
   "execution_count": 42,
   "metadata": {
    "collapsed": true
   },
   "outputs": [],
   "source": [
    "#Save model\n",
    "import pickle\n",
    "pickle.dump(classifier, open('OneVsRestClassifier_10%subset', 'wb'))"
   ]
  },
  {
   "cell_type": "code",
   "execution_count": 43,
   "metadata": {
    "collapsed": true
   },
   "outputs": [],
   "source": [
    "# load the model from disk\n",
    "#classifier = pickle.load(open('OneVsRestClassifier_10%subset', 'rb'))\n"
   ]
  },
  {
   "cell_type": "code",
   "execution_count": 51,
   "metadata": {},
   "outputs": [
    {
     "name": "stdout",
     "output_type": "stream",
     "text": [
      "10702\n",
      "10702\n"
     ]
    }
   ],
   "source": [
    "test =  pd.read_csv(\"test.csv\", index_col=None)\n",
    "#test =  pd.read_csv(\"test_wo_ZeroLabels.csv\", index_col=None)\n",
    "print(len(test))\n",
    "test = test[['text','categories']]\n",
    "#subset data to test model\n",
    "#test = test.sample(frac=0.1)\n",
    "print(len(test))\n",
    "\n",
    "X_test = np.array(test['text'].values.astype('U'))\n",
    "y_test =  np.array(test['categories'])\n"
   ]
  },
  {
   "cell_type": "code",
   "execution_count": 52,
   "metadata": {
    "collapsed": true
   },
   "outputs": [],
   "source": [
    "predicted = classifier.predict(X_test)\n",
    "\n"
   ]
  },
  {
   "cell_type": "code",
   "execution_count": 53,
   "metadata": {},
   "outputs": [
    {
     "data": {
      "text/plain": [
       "array([\"['Burgers', 'Bars', 'American (New)', 'Nightlife', 'Restaurants']\",\n",
       "       \"['Fast Food', 'Restaurants']\",\n",
       "       \"['Burgers', 'Fast Food', 'Restaurants']\", ...,\n",
       "       \"['Breakfast & Brunch', 'Restaurants']\",\n",
       "       \"['Breakfast & Brunch', 'Restaurants']\",\n",
       "       \"['American (Traditional)', 'Restaurants']\"],\n",
       "      dtype='<U180')"
      ]
     },
     "execution_count": 53,
     "metadata": {},
     "output_type": "execute_result"
    }
   ],
   "source": [
    "predicted"
   ]
  },
  {
   "cell_type": "code",
   "execution_count": 54,
   "metadata": {},
   "outputs": [
    {
     "data": {
      "text/plain": [
       "array([\"['Burgers', 'Fast Food', 'Restaurants']\",\n",
       "       \"['Burgers', 'Fast Food', 'Restaurants']\",\n",
       "       \"['Burgers', 'Fast Food', 'Restaurants']\", ...,\n",
       "       \"['Breakfast & Brunch', 'American (Traditional)', 'Restaurants']\",\n",
       "       \"['Breakfast & Brunch', 'American (Traditional)', 'Restaurants']\",\n",
       "       \"['Breakfast & Brunch', 'American (Traditional)', 'Restaurants']\"], dtype=object)"
      ]
     },
     "execution_count": 54,
     "metadata": {},
     "output_type": "execute_result"
    }
   ],
   "source": [
    "y_test"
   ]
  },
  {
   "cell_type": "code",
   "execution_count": 55,
   "metadata": {},
   "outputs": [
    {
     "data": {
      "text/plain": [
       "array([ \"I try not to eat this type of food because I don't want to be so unhealthy but sometimes I just don't have time and I have to grab something quick. I always had issues with this Mcdonald's and the others around the area that are also under the same management, you know the usual from Fast food restaurants, they give you the wrong orders at the drive-thru, they forget ketchup, rude but the biggest problem I had here was a few months ago, they were trying to charge me for extra ketchup, I was where is there a sign where it says that I have to pay extra for a package of ketchup? after that they made a rude comment and gave me the ketchup, I complained directly to management and a few days later they put signs in their locations that say they will charge for your condiments.   I don't know if all Mcdonald's are like that but the ones own by the owner of the ones in the area are so cheap, when did I have to pay extra just because I wanted 3 packs of ketchup for a meal of 6 bucks? that's why I told all my friends at work and an email to all my coworkers about 200 and they don't go there anymore.\",\n",
       "       \"Not bad. clean, not busy. Food was as good as McDonald's gets. The only bad thing is that the employees were yelling and fighting in the back. Kinda funny but really unprofessional considering the age of them and that the manager was standing there laughing at them.\",\n",
       "       \"They usually have a long wait time in drive through when it's busy. Other than that, the service is good\",\n",
       "       ...,\n",
       "       \"My wife and I were on a sports car day trip and was cruising through Wickenburg looking for a breakfast spot this past Saturday morning.  Saw a large billboard for Ike's Cook Shack and looked interesting.  One we found the place it looked intriguing so we gave it a go.  It's kind of small and but cosy round log cabin.  Ordered the hotcake stack with eggs and bacon.  Excellent!  Way too much food with three big plate sized sourdough pancakes.  My wife have an eggwhite omelet that was great too.  I recommend this place and I hope it does well.\",\n",
       "       \"Honestly, I feel bad rating them so low. But so many things went wrong, it's hard to lie and say I want to go back. \\n\\nTo begin, we expected a wait, but we were surprised when we were asked to wait outside (as opposed to inside the door). Every table that came after us was also asked to sit outside. The wait time for a table was probably 20min. \\n\\nNext, we waited on our food. There were two large tables before us, unfortunately. We played cards to pass the time (nice touch) but got bored after another twenty minutes. \\n\\nWhen our food did arrive, each plate had been sloppily thrown together: one plate had burned bacon (black), all of the toast hadn't even been browned or cut in halves, the hash browns were more consistent with potato sticks and the eggs looked like they came from another planet.   My appetite dropped when the waitress gave me my plate-- not a good sign. \\n\\nAdd to this high level of noise (small restaurant with the kitchen and a closet of a bathroom just inches away from tables), plates being dropped on the floors, and the manager chastising her daughter/waitress in front of guests, I unfortunately predict that this restaurant will pass on like so many before it. \\n\\nSuggestions: come for a weekday breakfast to avoid the noise and the wait. And hopefully, their plates start coming out with a more appealing appearance. I doubt I will be back, returning only if I'm guilted into another visit.\",\n",
       "       'I stopped here today with my friend Capt. Cooper and we both enjoyed a great lunch. The hamburger with grilled jalapeño and bacon was excellent and the fries were very good. I plan on eating here each time I travel thru Wickenburg, it was that good!!!'],\n",
       "      dtype='<U4999')"
      ]
     },
     "execution_count": 55,
     "metadata": {},
     "output_type": "execute_result"
    }
   ],
   "source": [
    "X_test"
   ]
  },
  {
   "cell_type": "code",
   "execution_count": null,
   "metadata": {
    "collapsed": true
   },
   "outputs": [],
   "source": []
  },
  {
   "cell_type": "code",
   "execution_count": 56,
   "metadata": {
    "collapsed": true
   },
   "outputs": [],
   "source": [
    "#Micro has implications -- better to predict and hit occasionally than to never predict at all\n",
    "f1 = f1_score(y_test,predicted, average ='micro')\n",
    "recall =  recall_score(y_test, predicted, average= 'micro')\n",
    "precission =precision_score(y_test, predicted, average='micro')"
   ]
  },
  {
   "cell_type": "code",
   "execution_count": 57,
   "metadata": {},
   "outputs": [
    {
     "name": "stdout",
     "output_type": "stream",
     "text": [
      "f1: 0.2876097925621379\n",
      "precission: 0.2876097925621379\n",
      "recall: 0.2876097925621379\n"
     ]
    }
   ],
   "source": [
    "print(\"f1: {}\".format(f1))\n",
    "print(\"precission: {}\".format(precission))\n",
    "print(\"recall: {}\".format(recall))"
   ]
  },
  {
   "cell_type": "code",
   "execution_count": null,
   "metadata": {
    "collapsed": true
   },
   "outputs": [],
   "source": []
  }
 ],
 "metadata": {
  "kernelspec": {
   "display_name": "Python 3",
   "language": "python",
   "name": "python3"
  },
  "language_info": {
   "codemirror_mode": {
    "name": "ipython",
    "version": 3
   },
   "file_extension": ".py",
   "mimetype": "text/x-python",
   "name": "python",
   "nbconvert_exporter": "python",
   "pygments_lexer": "ipython3",
   "version": "3.6.2"
  }
 },
 "nbformat": 4,
 "nbformat_minor": 2
}
