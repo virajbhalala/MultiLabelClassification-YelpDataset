{
 "cells": [
  {
   "cell_type": "markdown",
   "metadata": {},
   "source": [
    "# Step 3 OneVsRest Classifier"
   ]
  },
  {
   "cell_type": "code",
   "execution_count": 62,
   "metadata": {
    "collapsed": true
   },
   "outputs": [],
   "source": [
    "import numpy as np\n",
    "from sklearn.pipeline import Pipeline\n",
    "from sklearn.feature_extraction.text import CountVectorizer\n",
    "from sklearn.svm import LinearSVC\n",
    "from sklearn.feature_extraction.text import TfidfTransformer\n",
    "from sklearn.multiclass import OneVsRestClassifier\n",
    "import pandas as pd\n",
    "from sklearn.metrics import f1_score, precision_score, recall_score, accuracy_score, hamming_loss,jaccard_similarity_score\n",
    "\n",
    "    "
   ]
  },
  {
   "cell_type": "code",
   "execution_count": 35,
   "metadata": {
    "collapsed": true
   },
   "outputs": [],
   "source": [
    "train =  pd.read_csv(\"train.csv\", index_col=None)\n",
    "#train =  pd.read_csv(\"train_wo_ZeroLabels.csv\", index_col=None)"
   ]
  },
  {
   "cell_type": "code",
   "execution_count": 36,
   "metadata": {},
   "outputs": [
    {
     "data": {
      "text/plain": [
       "229907"
      ]
     },
     "execution_count": 36,
     "metadata": {},
     "output_type": "execute_result"
    }
   ],
   "source": [
    "len(train)"
   ]
  },
  {
   "cell_type": "code",
   "execution_count": 37,
   "metadata": {
    "collapsed": true
   },
   "outputs": [],
   "source": [
    "train = train[['text','categories']]\n"
   ]
  },
  {
   "cell_type": "code",
   "execution_count": 38,
   "metadata": {},
   "outputs": [
    {
     "data": {
      "text/plain": [
       "22991"
      ]
     },
     "execution_count": 38,
     "metadata": {},
     "output_type": "execute_result"
    }
   ],
   "source": [
    "\n",
    "#subset data to 10%\n",
    "train = train.sample(frac=0.1)\n",
    "len(train)"
   ]
  },
  {
   "cell_type": "code",
   "execution_count": 39,
   "metadata": {
    "collapsed": true
   },
   "outputs": [],
   "source": [
    "X_train = np.array(train['text'].values.astype('U'))\n",
    "y_train =  np.array(train['categories'])"
   ]
  },
  {
   "cell_type": "code",
   "execution_count": 40,
   "metadata": {
    "collapsed": true
   },
   "outputs": [],
   "source": [
    "classifier = Pipeline([\n",
    "    #Convert a collection of text documents to a matrix of token counts\n",
    "    ('vectorizer', CountVectorizer(ngram_range=(1,1))),\n",
    "    #TFIDF\n",
    "    ('tfidf', TfidfTransformer()),\n",
    "    ('clf', OneVsRestClassifier(LinearSVC()))])\n"
   ]
  },
  {
   "cell_type": "code",
   "execution_count": 41,
   "metadata": {},
   "outputs": [
    {
     "data": {
      "text/plain": [
       "Pipeline(memory=None,\n",
       "     steps=[('vectorizer', CountVectorizer(analyzer='word', binary=False, decode_error='strict',\n",
       "        dtype=<class 'numpy.int64'>, encoding='utf-8', input='content',\n",
       "        lowercase=True, max_df=1.0, max_features=None, min_df=1,\n",
       "        ngram_range=(1, 1), preprocessor=None, stop_words=None,\n",
       "       ...lti_class='ovr', penalty='l2', random_state=None, tol=0.0001,\n",
       "     verbose=0),\n",
       "          n_jobs=1))])"
      ]
     },
     "execution_count": 41,
     "metadata": {},
     "output_type": "execute_result"
    }
   ],
   "source": [
    "classifier.fit(X_train,y_train )\n",
    "\n"
   ]
  },
  {
   "cell_type": "code",
   "execution_count": 42,
   "metadata": {
    "collapsed": true
   },
   "outputs": [],
   "source": [
    "#Save model\n",
    "import pickle\n",
    "pickle.dump(classifier, open('OneVsRestClassifier_10%subset', 'wb'))"
   ]
  },
  {
   "cell_type": "code",
   "execution_count": 43,
   "metadata": {
    "collapsed": true
   },
   "outputs": [],
   "source": [
    "# load the model from disk\n",
    "#classifier = pickle.load(open('OneVsRestClassifier_10%subset', 'rb'))\n"
   ]
  },
  {
   "cell_type": "code",
   "execution_count": 74,
   "metadata": {},
   "outputs": [
    {
     "name": "stdout",
     "output_type": "stream",
     "text": [
      "10702\n",
      "1070\n"
     ]
    }
   ],
   "source": [
    "test =  pd.read_csv(\"test.csv\", index_col=None)\n",
    "#test =  pd.read_csv(\"test_wo_ZeroLabels.csv\", index_col=None)\n",
    "print(len(test))\n",
    "test = test[['text','categories']]\n",
    "#subset data to test model\n",
    "test = test.sample(frac=0.1)\n",
    "print(len(test))\n",
    "\n",
    "X_test = np.array(test['text'].values.astype('U'))\n",
    "y_test =  np.array(test['categories'])\n"
   ]
  },
  {
   "cell_type": "code",
   "execution_count": 75,
   "metadata": {
    "collapsed": true
   },
   "outputs": [],
   "source": [
    "predicted = classifier.predict(X_test)\n",
    "\n"
   ]
  },
  {
   "cell_type": "code",
   "execution_count": 76,
   "metadata": {},
   "outputs": [
    {
     "data": {
      "text/plain": [
       "array([\"['Vietnamese', 'Restaurants']\", \"['Mexican', 'Restaurants']\",\n",
       "       \"['Steakhouses', 'Restaurants']\", ...,\n",
       "       \"['Auto Repair', 'Automotive']\",\n",
       "       \"['Buffets', 'Chinese', 'Restaurants']\",\n",
       "       \"['Arts & Entertainment', 'Art Galleries', 'Shopping']\"],\n",
       "      dtype='<U180')"
      ]
     },
     "execution_count": 76,
     "metadata": {},
     "output_type": "execute_result"
    }
   ],
   "source": [
    "predicted"
   ]
  },
  {
   "cell_type": "code",
   "execution_count": 77,
   "metadata": {},
   "outputs": [
    {
     "data": {
      "text/plain": [
       "array([\"['Bars', 'Vietnamese', 'Nightlife', 'Restaurants']\",\n",
       "       \"['Mexican', 'Restaurants']\", \"['Steakhouses', 'Restaurants']\", ...,\n",
       "       \"['Auto Repair', 'Automotive']\", \"['Buffets', 'Restaurants']\",\n",
       "       \"['Professional Services', 'Videographers', 'Video/Film Production', 'Event Planning & Services']\"], dtype=object)"
      ]
     },
     "execution_count": 77,
     "metadata": {},
     "output_type": "execute_result"
    }
   ],
   "source": [
    "y_test"
   ]
  },
  {
   "cell_type": "code",
   "execution_count": 78,
   "metadata": {},
   "outputs": [
    {
     "data": {
      "text/plain": [
       "array([ \"We tried to go to a Pho place that was recommended to us by a friend but was closed. Did a quick yelp search and found this place that had just opened. \\n\\nIt was pretty empty at 1pm with only 4 tables occupied. Service was good except the kitchen messed up on our orders which is hard to believe as, with most Pho places, it's order by number. No biggie, the fixed it. \\n\\nOn to the Pho itself. First the size. The regular and large are not much different and the large is smaller then most place I've gone. The broth itself was OK but not anything special. The meat was lacking, not in quality but quantity. Overall it was a decent bowl of Pho but not something I would drive to in order to have. If I was in the area and needed a quick Pho fix, sure, but nothing more.\",\n",
       "       \"Went to Tacos Jaliscos today and ordered Pozole. Was told they were out of it. So I ordered the tacos at $1 each. I ordered 2 de pastor and 2 of lengua. I must say that they were not fresh at all and they did have a TON of cilantro and onion mix on there. I really didn't like the tacos. Now, the drink place next door is really good. Probably won't return unless I try the Pozole.\",\n",
       "       \"CURBSIDE TAKEAWAY REVIEW - \\n\\nI want to make sure it is clear that this review is related to the curbside takeaway only, and not the restaurant in general.  This only reflects my experience with the curbside team over the last couple of years.\\n\\nThe accuracy of my orders are incorrect more than they are correct.  This is a trend over the last 24 months.  We do not have complicated or modify the menu when ordering, we are talking about items not being included that should be.\\n\\nI recognize that we aren't saving the world here.  We have gone back to this location for takeaway over and over and over again.  The one job that Outback Curbside Takeaway has is to provide fast and accurate food as advertised.  It is on this expectation that I give a low one-star rating.\\n\\nLast night was the last straw - 1) the order was ready 35 minutes after the communicated pick up time via the website and follow up email, 2) we were missing one of the salads.  3)  The salad dressing we received was for the salad we did not get - and we did not get the dressing assigned to the salad we did get.  4)  The french fries were soggy / undercooked.  5)  The steak was cold.  6)  The bread did not come with butter/sides.\\n\\nI've noticed that it is typically the side salad that gets the shaft.  I have returned this location for curbside takeaway maybe 15 times over the last two years.  I've reached the point where I check the bag before I pull away and I no longer call the manager to complain.  I have hoped for the best because in general I really like Outback.  The only time we will be returning to this location is to dine in.  We've given curbside many many many second chances.\",\n",
       "       ...,\n",
       "       \"I've had regular oil change and maintenance routinely and had no problems with them, they are very nice and pleasant.  They will notify you if they see something wrong and give you a quote on how much it  will cost to fix it.  Also they can install things for a fee if it's not their product and you just wanted to add to your vehicle, which is nice.\",\n",
       "       'With tomorrow being the year anniversary of my last update of Pacific here, it was time to \"get \\'er done\", as Ed Shultz would say!  So I got together with Robyn N., we stormed the place for lunch today, & I\\'m happy to report that this is still one of the very best Buffets in Arizona!\\n\\nAfter a chat with our attentive, super friendly server, I started with some of their wonderful Clam Chowder, which they make from scratch, with clams right out of the shell, not a can.  That was one of SEVEN soups to choose from today, among the 162 food items out, not counting dressings & sauces.\\n\\nAfter some salad & just-made Sushi, it was on to the Roast Duck, Mongolian BBQ with a variety of meats including SCALLOPS, & so on.  I don\\'t think any Asian Buffet in AZ can match this place, except Crazy Buffet & SOMETIMES the Pacific Seafood over in Glendale.  The quality, quantity, & variety of the food over there is similar, but attention to detail* been hit & miss for me during my 5 visits to that one.\\n\\nTHIS Pacific Seafood Buffet here has had 6 years to get all of their Peking Ducks in a row, & they don\\'t make any of those mistakes.  I\\'ve also been to this one 5 times, & I\\'ve always gotten consistently very friendly treatment, such an array of terrific food to choose from that it\\'s just amazing!     :-))\\n\\nLunch Buffet $8.88/$8.00 Sr.\\n\\nPS:  Chinese Buffets never have a full bar, but this one does!\\n\\n===============================================\\n\\n*  Examples:  Not having all the food out at opening time, cake that should be served at room temperature put out frozen, & having the ice cream temperature set so low that it\\'s very hard to scoop out.',\n",
       "       \"I love Sonoran Studios and refuse to use another AV company in town!  Neil Schneider and his team are incredible and go above and beyond for each event.  My events look polished, elegant, expensive (but not!), and the flow is amazing.  Neil can also design videos and slides for you!  His videos are wonderful for emotional appeals and make me cry each time!  The Leukemia & Lymphoma Society can't wait to use Sonoran Studios for all of our upcoming events!\"],\n",
       "      dtype='<U4993')"
      ]
     },
     "execution_count": 78,
     "metadata": {},
     "output_type": "execute_result"
    }
   ],
   "source": [
    "X_test"
   ]
  },
  {
   "cell_type": "code",
   "execution_count": null,
   "metadata": {
    "collapsed": true
   },
   "outputs": [],
   "source": []
  },
  {
   "cell_type": "code",
   "execution_count": 79,
   "metadata": {
    "collapsed": true
   },
   "outputs": [],
   "source": [
    "#Micro has implications -- better to predict and hit occasionally than to never predict at all\n",
    "f1 = f1_score(y_test,predicted, average ='micro')\n",
    "hamming = hamming_loss(y_test, predicted)\n",
    "jaccard = jaccard_similarity_score(y_test, predicted)"
   ]
  },
  {
   "cell_type": "code",
   "execution_count": 80,
   "metadata": {},
   "outputs": [
    {
     "name": "stdout",
     "output_type": "stream",
     "text": [
      "f1: 0.27102803738317754\n",
      "hamming_loss: 0.7289719626168224\n",
      "jaccard_similarity_score: 0.27102803738317754\n"
     ]
    }
   ],
   "source": [
    "print(\"f1: {}\".format(f1))\n",
    "print(\"hamming_loss: {}\".format(hamming))\n",
    "print(\"jaccard_similarity_score: {}\".format(jaccard))\n",
    "\n"
   ]
  },
  {
   "cell_type": "code",
   "execution_count": null,
   "metadata": {
    "collapsed": true
   },
   "outputs": [],
   "source": []
  }
 ],
 "metadata": {
  "kernelspec": {
   "display_name": "Python 3",
   "language": "python",
   "name": "python3"
  },
  "language_info": {
   "codemirror_mode": {
    "name": "ipython",
    "version": 3
   },
   "file_extension": ".py",
   "mimetype": "text/x-python",
   "name": "python",
   "nbconvert_exporter": "python",
   "pygments_lexer": "ipython3",
   "version": "3.6.2"
  }
 },
 "nbformat": 4,
 "nbformat_minor": 2
}
