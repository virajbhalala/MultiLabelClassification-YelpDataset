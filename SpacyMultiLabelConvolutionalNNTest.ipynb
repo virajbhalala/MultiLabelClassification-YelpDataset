{
 "cells": [
  {
   "cell_type": "code",
   "execution_count": 1,
   "metadata": {
    "collapsed": true
   },
   "outputs": [],
   "source": [
    "import spacy\n",
    "import pandas as pd"
   ]
  },
  {
   "cell_type": "code",
   "execution_count": 2,
   "metadata": {
    "collapsed": true
   },
   "outputs": [],
   "source": [
    "train =  pd.read_csv(\"train.csv\", index_col=None)"
   ]
  },
  {
   "cell_type": "code",
   "execution_count": 9,
   "metadata": {
    "collapsed": true
   },
   "outputs": [],
   "source": [
    "nlp = spacy.load('en')\n",
    "nlp.add_pipe(nlp.create_pipe('textcat'))\n",
    "nlp.get_pipe('textcat').add_label('Tax')\n",
    "nlp.get_pipe('textcat').add_label('Auto')\n",
    "nlp.get_pipe('textcat').add_label('Tax3')\n",
    "nlp.get_pipe('textcat').add_label('Auto1')\n",
    "nlp.get_pipe('textcat').add_label('Tax1')\n",
    "nlp.get_pipe('textcat').add_label('Auto2')\n",
    "nlp.get_pipe('textcat').add_label('Tax2')\n",
    "nlp.get_pipe('textcat').add_label('Auto3')\n",
    "\n",
    "\n",
    "nlp.begin_training()\n",
    "for i in range(10):\n",
    "    for text, answer in [('Car clean', 1), ('Truck fix', 1), ('Car Oil change', 1)]:\n",
    "        nlp.update([text], [{'cats': {'Auto': answer}}])\n",
    "    for text, answer in [('Tax File', 1.), ('Legal', 1.), ('income advice', 1.)]:\n",
    "        nlp.update([text], [{'cats': {'Tax': answer}}])\n"
   ]
  },
  {
   "cell_type": "code",
   "execution_count": 10,
   "metadata": {},
   "outputs": [
    {
     "data": {
      "text/plain": [
       "{'Auto': 0.7962399125099182,\n",
       " 'Auto1': 0.6273819804191589,\n",
       " 'Auto2': 0.31913915276527405,\n",
       " 'Auto3': 0.17994219064712524,\n",
       " 'Tax': 0.815546452999115,\n",
       " 'Tax1': 0.25118952989578247,\n",
       " 'Tax2': 0.6501675844192505,\n",
       " 'Tax3': 0.9373195767402649}"
      ]
     },
     "execution_count": 10,
     "metadata": {},
     "output_type": "execute_result"
    }
   ],
   "source": [
    "doc2 = nlp(u'Clean the car and filter the oil ')\n",
    "doc2.cats"
   ]
  },
  {
   "cell_type": "code",
   "execution_count": null,
   "metadata": {
    "collapsed": true
   },
   "outputs": [],
   "source": [
    "doc3 = nlp(u'Prepare the company financial statement')\n",
    "doc3.cats"
   ]
  },
  {
   "cell_type": "code",
   "execution_count": null,
   "metadata": {
    "collapsed": true
   },
   "outputs": [],
   "source": [
    "doc4 = nlp(u'ccc')\n",
    "doc4.cats"
   ]
  },
  {
   "cell_type": "code",
   "execution_count": 10,
   "metadata": {},
   "outputs": [
    {
     "data": {
      "text/plain": [
       "['Tax', 'Auto']"
      ]
     },
     "execution_count": 10,
     "metadata": {},
     "output_type": "execute_result"
    }
   ],
   "source": [
    "list(doc3.cats)"
   ]
  },
  {
   "cell_type": "code",
   "execution_count": null,
   "metadata": {
    "collapsed": true
   },
   "outputs": [],
   "source": []
  }
 ],
 "metadata": {
  "kernelspec": {
   "display_name": "Python 3",
   "language": "python",
   "name": "python3"
  },
  "language_info": {
   "codemirror_mode": {
    "name": "ipython",
    "version": 3
   },
   "file_extension": ".py",
   "mimetype": "text/x-python",
   "name": "python",
   "nbconvert_exporter": "python",
   "pygments_lexer": "ipython3",
   "version": "3.6.2"
  }
 },
 "nbformat": 4,
 "nbformat_minor": 2
}
