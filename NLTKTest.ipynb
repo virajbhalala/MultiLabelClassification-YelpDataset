{
 "cells": [
  {
   "cell_type": "markdown",
   "metadata": {},
   "source": [
    "Author: Viraj Bhalala and Dev Patel"
   ]
  },
  {
   "cell_type": "code",
   "execution_count": 1,
   "metadata": {
    "collapsed": true
   },
   "outputs": [],
   "source": [
    "import nltk #user is required to first download this library Eg. pip install nltk"
   ]
  },
  {
   "cell_type": "code",
   "execution_count": 2,
   "metadata": {
    "collapsed": true
   },
   "outputs": [],
   "source": [
    "text = \"CS410 Text Information System is great\""
   ]
  },
  {
   "cell_type": "code",
   "execution_count": 3,
   "metadata": {},
   "outputs": [
    {
     "data": {
      "text/plain": [
       "['CS410', 'Text', 'Information', 'System', 'is', 'great']"
      ]
     },
     "execution_count": 3,
     "metadata": {},
     "output_type": "execute_result"
    }
   ],
   "source": [
    "#Tokenization\n",
    "tokens = nltk.word_tokenize(text)\n",
    "tokens"
   ]
  },
  {
   "cell_type": "code",
   "execution_count": 9,
   "metadata": {},
   "outputs": [
    {
     "name": "stdout",
     "output_type": "stream",
     "text": [
      "[('CS410', 'NNP'), ('Text', 'NNP'), ('Information', 'NNP'), ('System', 'NNP'), ('is', 'VBZ'), ('great', 'JJ')]\n"
     ]
    }
   ],
   "source": [
    "#Part of Speech Tagging\n",
    "tagged = nltk.pos_tag(tokens)\n",
    "print(tagged)"
   ]
  },
  {
   "cell_type": "code",
   "execution_count": 13,
   "metadata": {},
   "outputs": [
    {
     "name": "stdout",
     "output_type": "stream",
     "text": [
      "Stop Words: ['CS410', 'Text', 'Information', 'System', 'great']\n",
      "stemmed words: ['text', 'inform', 'class']\n"
     ]
    }
   ],
   "source": [
    "#Stopwords Removal\n",
    "from nltk.corpus import stopwords\n",
    "wordsFiltered=[]\n",
    "stopWords = set(stopwords.words('english'))\n",
    "for w in tokens:\n",
    "    if w not in stopWords:\n",
    "        wordsFiltered.append(w)\n",
    "print(\"Stop Words: \"+ str(wordsFiltered))\n",
    "\n",
    "from nltk.stem import PorterStemmer\n",
    "from nltk.tokenize import sent_tokenize, word_tokenize\n",
    "\n",
    "#Stemming\n",
    "words = [\"texting\",\"information\",\"classes\"]\n",
    "stemmedWords = []\n",
    "ps = PorterStemmer()\n",
    "for word in words:\n",
    "    stemmedWords.append(ps.stem(word))\n",
    "print(\"stemmed words: \" + str(stemmedWords))"
   ]
  },
  {
   "cell_type": "markdown",
   "metadata": {},
   "source": [
    "Tree('S', [Tree('ORGANIZATION', [('CS410', 'NNP'), ('Text', 'NNP'), ('Information', 'NNP'), ('System', 'NNP')]), ('is', 'VBZ'), ('great', 'JJ')])"
   ]
  },
  {
   "cell_type": "code",
   "execution_count": 15,
   "metadata": {},
   "outputs": [
    {
     "data": {
      "text/plain": [
       "'cs410 text information system is great'"
      ]
     },
     "execution_count": 15,
     "metadata": {},
     "output_type": "execute_result"
    }
   ],
   "source": [
    "text.lower()"
   ]
  },
  {
   "cell_type": "code",
   "execution_count": null,
   "metadata": {
    "collapsed": true
   },
   "outputs": [],
   "source": []
  }
 ],
 "metadata": {
  "kernelspec": {
   "display_name": "Python 3",
   "language": "python",
   "name": "python3"
  },
  "language_info": {
   "codemirror_mode": {
    "name": "ipython",
    "version": 3
   },
   "file_extension": ".py",
   "mimetype": "text/x-python",
   "name": "python",
   "nbconvert_exporter": "python",
   "pygments_lexer": "ipython3",
   "version": "3.6.2"
  }
 },
 "nbformat": 4,
 "nbformat_minor": 2
}
